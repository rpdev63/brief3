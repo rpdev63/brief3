{
 "cells": [
  {
   "cell_type": "markdown",
   "id": "cd1a3d11",
   "metadata": {},
   "source": [
    "### Objectif : Lire les 3 fichiers à l’aide de modules python et stocker les informations dans des objet DataFrame\n"
   ]
  },
  {
   "cell_type": "code",
   "execution_count": 1,
   "id": "7340245b",
   "metadata": {},
   "outputs": [],
   "source": [
    "import pandas as pd\n",
    "from simpledbf import Dbf5\n"
   ]
  },
  {
   "cell_type": "markdown",
   "id": "5ba47893",
   "metadata": {},
   "source": [
    "**Lire le csv**"
   ]
  },
  {
   "cell_type": "code",
   "execution_count": 2,
   "id": "12e00f2f",
   "metadata": {},
   "outputs": [
    {
     "name": "stdout",
     "output_type": "stream",
     "text": [
      "        ANAISH DEPNAISH  INDNATH  ETAMATH  ANAISF DEPNAISF  INDNATF  ETAMATF  \\\n",
      "0         1982       75        1        1    1984       99        2        1   \n",
      "1         1956       69        2        4    1969       99        2        4   \n",
      "2         1982       99        2        1    1992       99        1        1   \n",
      "3         1985       99        2        1    1987       84        1        1   \n",
      "4         1968       99        2        1    1963       99        2        1   \n",
      "...        ...      ...      ...      ...     ...      ...      ...      ...   \n",
      "246118    1948       99        1        4    1955       27        1        1   \n",
      "246119    1961       99        1        4    1976       99        2        1   \n",
      "246120    1963       60        1        4    1970      971        1        4   \n",
      "246121    1973       99        2        1    1985      971        1        1   \n",
      "246122    1980       99        2        1    1982       90        1        1   \n",
      "\n",
      "        AMAR  MMAR  JSEMAINE DEPMAR DEPDOM  TUDOM TUCOM NBENFCOM  \n",
      "0       2012     1         1     29     99      9   NaN        N  \n",
      "1       2012     1         3     75     99      9   NaN        N  \n",
      "2       2012     1         5     34     99      9   NaN        N  \n",
      "3       2012     1         4     13     99      9   NaN        N  \n",
      "4       2012     1         6     26     99      9   NaN        N  \n",
      "...      ...   ...       ...    ...    ...    ...   ...      ...  \n",
      "246118  2012    12         6    978    978      9     P        N  \n",
      "246119  2012    12         6    978    978      9     P        O  \n",
      "246120  2012    12         5    978    978      9     P        N  \n",
      "246121  2012    12         5    978    978      9     P        N  \n",
      "246122  2012    12         5    978    978      9     P        N  \n",
      "\n",
      "[246123 rows x 16 columns]\n"
     ]
    }
   ],
   "source": [
    "df = pd.read_csv(r\"ressources\\mar2012.csv\",  dtype={'DEPDOM':'object'})\n",
    "print(df)"
   ]
  },
  {
   "cell_type": "markdown",
   "id": "059e413f",
   "metadata": {},
   "source": [
    "**Lire le fichier txt**"
   ]
  },
  {
   "cell_type": "code",
   "execution_count": 5,
   "id": "006b2c70",
   "metadata": {},
   "outputs": [
    {
     "name": "stdout",
     "output_type": "stream",
     "text": [
      "     pregnant  glucose  diastolic  triceps  insulin   bmi  diabetes  age  test\n",
      "0           6      148         72       35        0  33.6     0.627   50     1\n",
      "1           1       85         66       29        0  26.6     0.351   31     0\n",
      "2           8      183         64        0        0  23.3     0.672   32     1\n",
      "3           1       89         66       23       94  28.1     0.167   21     0\n",
      "4           0      137         40       35      168  43.1     2.288   33     1\n",
      "..        ...      ...        ...      ...      ...   ...       ...  ...   ...\n",
      "763        10      101         76       48      180  32.9     0.171   63     0\n",
      "764         2      122         70       27        0  36.8     0.340   27     0\n",
      "765         5      121         72       23      112  26.2     0.245   30     0\n",
      "766         1      126         60        0        0  30.1     0.349   47     1\n",
      "767         1       93         70       31        0  30.4     0.315   23     0\n",
      "\n",
      "[768 rows x 9 columns]\n"
     ]
    }
   ],
   "source": [
    "df2 = pd.read_csv(r\"ressources\\prima.txt\", sep='\\t')\n",
    "print(df2)"
   ]
  },
  {
   "cell_type": "markdown",
   "id": "f1b92264",
   "metadata": {},
   "source": [
    "**Lire le dbf**"
   ]
  },
  {
   "cell_type": "code",
   "execution_count": 6,
   "id": "b11a7eb0",
   "metadata": {},
   "outputs": [
    {
     "name": "stdout",
     "output_type": "stream",
     "text": [
      "       ANAISH DEPNAISH INDNATH ETAMATH ANAISF DEPNAISF INDNATF ETAMATF  AMAR  \\\n",
      "0        1982       75       1       1   1984       99       2       1  2012   \n",
      "1        1956       69       2       4   1969       99       2       4  2012   \n",
      "2        1982       99       2       1   1992       99       1       1  2012   \n",
      "3        1985       99       2       1   1987       84       1       1  2012   \n",
      "4        1968       99       2       1   1963       99       2       1  2012   \n",
      "...       ...      ...     ...     ...    ...      ...     ...     ...   ...   \n",
      "246118   1948       99       1       4   1955       27       1       1  2012   \n",
      "246119   1961       99       1       4   1976       99       2       1  2012   \n",
      "246120   1963       60       1       4   1970      971       1       4  2012   \n",
      "246121   1973       99       2       1   1985      971       1       1  2012   \n",
      "246122   1980       99       2       1   1982       90       1       1  2012   \n",
      "\n",
      "       MMAR JSEMAINE DEPMAR DEPDOM TUDOM TUCOM NBENFCOM  \n",
      "0        01        1     29     99     9   NaN        N  \n",
      "1        01        3     75     99     9   NaN        N  \n",
      "2        01        5     34     99     9   NaN        N  \n",
      "3        01        4     13     99     9   NaN        N  \n",
      "4        01        6     26     99     9   NaN        N  \n",
      "...     ...      ...    ...    ...   ...   ...      ...  \n",
      "246118   12        6    978    978     9     P        N  \n",
      "246119   12        6    978    978     9     P        O  \n",
      "246120   12        5    978    978     9     P        N  \n",
      "246121   12        5    978    978     9     P        N  \n",
      "246122   12        5    978    978     9     P        N  \n",
      "\n",
      "[246123 rows x 16 columns]\n"
     ]
    }
   ],
   "source": [
    "dbf = Dbf5(r\"ressources\\mar2012.dbf\")\n",
    "df3 = dbf.to_dataframe()\n",
    "print(df3)"
   ]
  }
 ],
 "metadata": {
  "kernelspec": {
   "display_name": "Python 3 (ipykernel)",
   "language": "python",
   "name": "python3"
  },
  "language_info": {
   "codemirror_mode": {
    "name": "ipython",
    "version": 3
   },
   "file_extension": ".py",
   "mimetype": "text/x-python",
   "name": "python",
   "nbconvert_exporter": "python",
   "pygments_lexer": "ipython3",
   "version": "3.9.12"
  }
 },
 "nbformat": 4,
 "nbformat_minor": 5
}
