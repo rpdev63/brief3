{
 "cells": [
  {
   "cell_type": "markdown",
   "id": "a1149d16",
   "metadata": {},
   "source": [
    "**Fonction qui calcule la moyenne**"
   ]
  },
  {
   "cell_type": "code",
   "execution_count": 6,
   "id": "e5fbe931",
   "metadata": {},
   "outputs": [],
   "source": [
    "def get_mean(numbers):\n",
    "    mean = sum(numbers)/len(numbers)    \n",
    "    return mean"
   ]
  },
  {
   "cell_type": "markdown",
   "id": "a45490b1",
   "metadata": {},
   "source": [
    "**Fonction qui calcule la valeur médiane**"
   ]
  },
  {
   "cell_type": "code",
   "execution_count": 2,
   "id": "a8e789ea",
   "metadata": {},
   "outputs": [],
   "source": [
    "def get_median(numbers):\n",
    "    if (len(numbers) % 2 != 0) :\n",
    "        # cas impaire\n",
    "        index = int ( ( len(numbers) - 1 ) / 2 )        \n",
    "        mean = numbers[index]\n",
    "    else :\n",
    "        # cas paire\n",
    "        index1= int((len(numbers)) / 2)\n",
    "        index2 = int((len(numbers)) / 2 - 1)\n",
    "        mean = ( numbers[index1] + numbers[index2]) /2\n",
    "    return mean"
   ]
  },
  {
   "cell_type": "markdown",
   "id": "60cc2946",
   "metadata": {},
   "source": [
    "**Fonction qui calcule la variance**"
   ]
  },
  {
   "cell_type": "code",
   "execution_count": 3,
   "id": "d08f1848",
   "metadata": {},
   "outputs": [],
   "source": [
    "def get_variance(numbers):\n",
    "    mean = get_mean(numbers)\n",
    "    gap_sum = 0\n",
    "    for x in numbers:\n",
    "        gap_sum +=  ( mean - x )**2\n",
    "    variance = gap_sum / len(numbers)\n",
    "    return variance"
   ]
  },
  {
   "cell_type": "markdown",
   "id": "6a640a5a",
   "metadata": {},
   "source": [
    "**Fonction qui calcule l'écart type**"
   ]
  },
  {
   "cell_type": "code",
   "execution_count": 4,
   "id": "248f5e08",
   "metadata": {},
   "outputs": [],
   "source": [
    "def get_standard_deviation(numbers):\n",
    "    return get_variance(numbers) **0.5  "
   ]
  },
  {
   "cell_type": "markdown",
   "id": "4a589c9b",
   "metadata": {},
   "source": [
    "**Utilisation des fonctions**"
   ]
  },
  {
   "cell_type": "code",
   "execution_count": 5,
   "id": "b9199ce6",
   "metadata": {},
   "outputs": [
    {
     "name": "stdout",
     "output_type": "stream",
     "text": [
      "Moyenne : 7.0\n",
      "Mediane : 7\n",
      "Variance : 16.0\n",
      "Ecart type : 4.0\n"
     ]
    }
   ],
   "source": [
    "numbers = [ 1,3,5,7,9,11,13]\n",
    "numbers2 = [ 1,3,5,9,11,13]\n",
    "\n",
    "print(\"Moyenne : {}\".format(get_mean(numbers)))\n",
    "print(\"Mediane : {}\".format(get_median(numbers)))\n",
    "print(\"Variance : {}\".format(get_variance(numbers)))\n",
    "print(\"Ecart type : {}\".format(get_standard_deviation(numbers)))"
   ]
  }
 ],
 "metadata": {
  "kernelspec": {
   "display_name": "Python 3 (ipykernel)",
   "language": "python",
   "name": "python3"
  },
  "language_info": {
   "codemirror_mode": {
    "name": "ipython",
    "version": 3
   },
   "file_extension": ".py",
   "mimetype": "text/x-python",
   "name": "python",
   "nbconvert_exporter": "python",
   "pygments_lexer": "ipython3",
   "version": "3.9.12"
  }
 },
 "nbformat": 4,
 "nbformat_minor": 5
}
