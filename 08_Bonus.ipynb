{
 "cells": [
  {
   "cell_type": "markdown",
   "id": "61943268",
   "metadata": {},
   "source": [
    "## CHALLENGE BONUS: GAMES OF THRONES"
   ]
  },
  {
   "cell_type": "code",
   "execution_count": 1,
   "id": "58afbbfe",
   "metadata": {},
   "outputs": [],
   "source": [
    "mots = ['eddard', 'catelyn', 'robb', 'sansa', 'arya', 'brandon', 'rickon', 'theon', 'rorbert', 'cersei', 'tywin', 'jaime', 'tyrion', 'shae', 'bronn', 'lancel', 'joffrey', 'sandor', 'varys', 'renly', 'a' ]"
   ]
  },
  {
   "cell_type": "markdown",
   "id": "8da189dc",
   "metadata": {},
   "source": [
    "**Ecrire une fonction qui retourne tous les mots de la liste qui ont un ‘y’ en seconde position**\n"
   ]
  },
  {
   "cell_type": "code",
   "execution_count": 2,
   "id": "99bc98e5",
   "metadata": {},
   "outputs": [
    {
     "name": "stdout",
     "output_type": "stream",
     "text": [
      "['tywin', 'tyrion']\n"
     ]
    }
   ],
   "source": [
    "def mots_lettre_position (liste, lettre, position) -> list:\n",
    "    good_words=[]\n",
    "    for mot in liste :\n",
    "        index = 0\n",
    "        for l in mot :\n",
    "            index += 1\n",
    "            if (l == lettre and index == position) :\n",
    "                good_words.append(mot)\n",
    "                \n",
    "    return good_words\n",
    "\n",
    "print(mots_lettre_position(mots,'y',2))\n"
   ]
  },
  {
   "cell_type": "markdown",
   "id": "ff14d46b",
   "metadata": {},
   "source": [
    "**On modifie la fonction précédente mots_lettre_position de telle sorte qu’elle s’écrive comme suit :**\n",
    "\n"
   ]
  },
  {
   "cell_type": "code",
   "execution_count": 4,
   "id": "6142e134",
   "metadata": {},
   "outputs": [],
   "source": [
    "def mots_lettre_position (dictionnaire_bien_choisi, lettre, position) :\n",
    "    return dictionnaire_bien_choisi.get( (position, lettre) , [] )"
   ]
  },
  {
   "cell_type": "markdown",
   "id": "d7f4241e",
   "metadata": {},
   "source": [
    "**Construisez le dictionnaire dictionnaire_bien_choisi pour que cela fonctionne. Combien de mots sont stockés dans dictionnaire_bien_choisi ?**"
   ]
  },
  {
   "cell_type": "code",
   "execution_count": 8,
   "id": "2cbd628e",
   "metadata": {},
   "outputs": [
    {
     "name": "stdout",
     "output_type": "stream",
     "text": [
      "['mot', 'message', 'mince']\n"
     ]
    }
   ],
   "source": [
    "dico_bien_choisi = {\n",
    "    ( 1, \"m\") : [\"mot\",\"message\",\"mince\"],\n",
    "    ( 2, \"e\") : [\"cerf\", \"lent\"]\n",
    "}\n",
    "\n",
    "\n",
    "\n",
    "\n",
    "print(mots_lettre_position(dico_bien_choisi, \"m\",1))"
   ]
  },
  {
   "cell_type": "markdown",
   "id": "c3c61bcc",
   "metadata": {},
   "source": [
    "Réponse : On pourrait rentrer le petit Robert entier dans le dico_bien_choisi mais ça serait très très long, et il y aurait énormément de doublons. Du coup je pense que c'est un échec cuisant."
   ]
  }
 ],
 "metadata": {
  "kernelspec": {
   "display_name": "Python 3 (ipykernel)",
   "language": "python",
   "name": "python3"
  },
  "language_info": {
   "codemirror_mode": {
    "name": "ipython",
    "version": 3
   },
   "file_extension": ".py",
   "mimetype": "text/x-python",
   "name": "python",
   "nbconvert_exporter": "python",
   "pygments_lexer": "ipython3",
   "version": "3.9.12"
  }
 },
 "nbformat": 4,
 "nbformat_minor": 5
}
