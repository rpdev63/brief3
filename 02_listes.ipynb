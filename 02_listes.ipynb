{
 "cells": [
  {
   "cell_type": "markdown",
   "id": "fa12f459",
   "metadata": {},
   "source": [
    "## Objectif : Manipuler une liste contenant le prix de 58 maisons"
   ]
  },
  {
   "cell_type": "markdown",
   "id": "9d478163",
   "metadata": {},
   "source": [
    "**1-Créer une liste nommée « prix_de_58_maisons » contenant des prix de 58 maisons entre 125 000 et 700 000**"
   ]
  },
  {
   "cell_type": "code",
   "execution_count": 8,
   "id": "c7923dde",
   "metadata": {},
   "outputs": [
    {
     "name": "stdout",
     "output_type": "stream",
     "text": [
      "[231437, 469768, 163432, 425377, 328877, 316059, 446266, 238324, 459546, 190107, 684031, 286301, 437696, 389491, 668321, 516229, 281066, 276454, 299642, 254944, 618520, 388741, 342334, 211646, 296159, 130339, 149416, 623544, 620134, 165817, 170647, 671867, 517674, 346618, 137301, 696570, 500844, 479804, 137431, 687936, 343565, 397792, 558920, 281309, 308903, 332003, 687469, 532602, 538264, 412493, 308749, 377236, 288066, 585883, 539224, 503808, 690837, 315509]\n"
     ]
    }
   ],
   "source": [
    "from numpy import random\n",
    "\n",
    "prix_de_58_maisons = [random.randint(125000,700000) for i in range(58)]\n",
    "print(prix_de_58_maisons)"
   ]
  },
  {
   "cell_type": "markdown",
   "id": "33aa1986",
   "metadata": {},
   "source": [
    "**2 – Combien de maisons ont un prix supérieur ou égal à 300 0000 euros ?\n",
    "3 – Combien de maisons ont un prix compris entre 250 000 et 400 000 euros ?\n",
    "4 –Combien de maisons ont un prix qui n’est pas supérieur à 600 000 euros ?\n",
    "5 – Combien de maisons ont un prix inférieur à 150 000 euros ou supérieur à\n",
    "650 000 euros ?**\n"
   ]
  },
  {
   "cell_type": "code",
   "execution_count": 9,
   "id": "d5eb8849",
   "metadata": {},
   "outputs": [
    {
     "name": "stdout",
     "output_type": "stream",
     "text": [
      "Il y a 39 de maisons qui ont un prix supérieur ou égal à 300 0000 euro\n",
      "Il y a 21 de maisons qui ont un prix compris entre 250 000 et 400 000 euros\n",
      "Il y a 48 de maisons qui ont un prix qui n’est pas supérieur à 600 000 euros\n",
      "Il y a 11 de maisons qui ont un prix inférieur à 150 000 euros ou supérieur à 650 000 euros\n"
     ]
    }
   ],
   "source": [
    "sorted1, sorted2, sorted3, sorted4 = 0,0,0,0\n",
    "\n",
    "for value in prix_de_58_maisons :\n",
    "    if value >= 300000 :\n",
    "        sorted1 +=1\n",
    "    if (value > 250000) and (value < 400000) :\n",
    "        sorted2 +=1\n",
    "    if (value < 600000):\n",
    "        sorted3 +=1\n",
    "    if (value < 150000) or (value > 650000) :\n",
    "        sorted4 +=1\n",
    "\n",
    "        \n",
    "print(\"Il y a {} de maisons qui ont un prix supérieur ou égal à 300 0000 euro\".format(sorted1))\n",
    "print(\"Il y a {} de maisons qui ont un prix compris entre 250 000 et 400 000 euros\".format(sorted2))\n",
    "print(\"Il y a {} de maisons qui ont un prix qui n’est pas supérieur à 600 000 euros\".format(sorted3))\n",
    "print(\"Il y a {} de maisons qui ont un prix inférieur à 150 000 euros ou supérieur à 650 000 euros\".format(sorted4))"
   ]
  }
 ],
 "metadata": {
  "kernelspec": {
   "display_name": "Python 3 (ipykernel)",
   "language": "python",
   "name": "python3"
  },
  "language_info": {
   "codemirror_mode": {
    "name": "ipython",
    "version": 3
   },
   "file_extension": ".py",
   "mimetype": "text/x-python",
   "name": "python",
   "nbconvert_exporter": "python",
   "pygments_lexer": "ipython3",
   "version": "3.9.12"
  }
 },
 "nbformat": 4,
 "nbformat_minor": 5
}
