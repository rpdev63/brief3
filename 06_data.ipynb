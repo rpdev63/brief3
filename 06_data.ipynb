{
 "cells": [
  {
   "cell_type": "markdown",
   "id": "746ab3d1",
   "metadata": {},
   "source": [
    "## CHALLENGE DATA : Déterminer le chiffre d’affaire chez un marchand de vin"
   ]
  },
  {
   "cell_type": "code",
   "execution_count": 1,
   "id": "b0a9dbe6",
   "metadata": {},
   "outputs": [
    {
     "name": "stderr",
     "output_type": "stream",
     "text": [
      "C:\\Users\\utilisateur\\anaconda3\\lib\\site-packages\\openpyxl\\worksheet\\_reader.py:312: UserWarning: Unknown extension is not supported and will be removed\n",
      "  warn(msg)\n",
      "C:\\Users\\utilisateur\\anaconda3\\lib\\site-packages\\openpyxl\\worksheet\\_reader.py:312: UserWarning: Unknown extension is not supported and will be removed\n",
      "  warn(msg)\n",
      "C:\\Users\\utilisateur\\anaconda3\\lib\\site-packages\\openpyxl\\worksheet\\_reader.py:312: UserWarning: Unknown extension is not supported and will be removed\n",
      "  warn(msg)\n"
     ]
    }
   ],
   "source": [
    "import pandas as pd\n",
    "import xlrd\n",
    "from scipy import stats\n",
    "import numpy as np\n",
    "import matplotlib.pyplot as plt\n",
    "\n",
    "df_erp = pd.read_excel(r'ressources_data/erp.xlsx')\n",
    "df_web = pd.read_excel(r'ressources_data/web.xlsx')\n",
    "df_liaison = pd.read_excel(r'ressources_data/liaison.xlsx')\n",
    "\n"
   ]
  },
  {
   "cell_type": "markdown",
   "id": "8cb9ae85",
   "metadata": {},
   "source": [
    "**Faire un rapprochement entre l’export de la table de CMS  et l’export de l’ERP**\n"
   ]
  },
  {
   "cell_type": "code",
   "execution_count": 2,
   "id": "fcf3e471",
   "metadata": {},
   "outputs": [
    {
     "data": {
      "text/html": [
       "<div>\n",
       "<style scoped>\n",
       "    .dataframe tbody tr th:only-of-type {\n",
       "        vertical-align: middle;\n",
       "    }\n",
       "\n",
       "    .dataframe tbody tr th {\n",
       "        vertical-align: top;\n",
       "    }\n",
       "\n",
       "    .dataframe thead th {\n",
       "        text-align: right;\n",
       "    }\n",
       "</style>\n",
       "<table border=\"1\" class=\"dataframe\">\n",
       "  <thead>\n",
       "    <tr style=\"text-align: right;\">\n",
       "      <th></th>\n",
       "      <th>product_id</th>\n",
       "      <th>onsale_web</th>\n",
       "      <th>price</th>\n",
       "      <th>stock_quantity</th>\n",
       "      <th>stock_status</th>\n",
       "      <th>id_web</th>\n",
       "      <th>sku</th>\n",
       "      <th>virtual</th>\n",
       "      <th>downloadable</th>\n",
       "      <th>rating_count</th>\n",
       "      <th>...</th>\n",
       "      <th>post_name</th>\n",
       "      <th>post_modified</th>\n",
       "      <th>post_modified_gmt</th>\n",
       "      <th>post_content_filtered</th>\n",
       "      <th>post_parent</th>\n",
       "      <th>guid</th>\n",
       "      <th>menu_order</th>\n",
       "      <th>post_type</th>\n",
       "      <th>post_mime_type</th>\n",
       "      <th>comment_count</th>\n",
       "    </tr>\n",
       "  </thead>\n",
       "  <tbody>\n",
       "    <tr>\n",
       "      <th>0</th>\n",
       "      <td>3847</td>\n",
       "      <td>1</td>\n",
       "      <td>24.2</td>\n",
       "      <td>0</td>\n",
       "      <td>outofstock</td>\n",
       "      <td>15298</td>\n",
       "      <td>15298</td>\n",
       "      <td>0</td>\n",
       "      <td>0</td>\n",
       "      <td>0</td>\n",
       "      <td>...</td>\n",
       "      <td>pierre-jean-villa-saint-joseph-preface-2018</td>\n",
       "      <td>2019-12-30 09:30:29</td>\n",
       "      <td>2019-12-30 08:30:29</td>\n",
       "      <td>NaN</td>\n",
       "      <td>0.0</td>\n",
       "      <td>https://www.wine-spirit.fr/?post_type=product&amp;...</td>\n",
       "      <td>0.0</td>\n",
       "      <td>product</td>\n",
       "      <td>NaN</td>\n",
       "      <td>0.0</td>\n",
       "    </tr>\n",
       "    <tr>\n",
       "      <th>1</th>\n",
       "      <td>3847</td>\n",
       "      <td>1</td>\n",
       "      <td>24.2</td>\n",
       "      <td>0</td>\n",
       "      <td>outofstock</td>\n",
       "      <td>15298</td>\n",
       "      <td>15298</td>\n",
       "      <td>0</td>\n",
       "      <td>0</td>\n",
       "      <td>0</td>\n",
       "      <td>...</td>\n",
       "      <td>pierre-jean-villa-saint-joseph-preface-2018</td>\n",
       "      <td>2019-12-30 09:30:29</td>\n",
       "      <td>2019-12-30 08:30:29</td>\n",
       "      <td>NaN</td>\n",
       "      <td>0.0</td>\n",
       "      <td>https://www.wine-spirit.fr/wp-content/uploads/...</td>\n",
       "      <td>0.0</td>\n",
       "      <td>attachment</td>\n",
       "      <td>image/jpeg</td>\n",
       "      <td>0.0</td>\n",
       "    </tr>\n",
       "  </tbody>\n",
       "</table>\n",
       "<p>2 rows × 34 columns</p>\n",
       "</div>"
      ],
      "text/plain": [
       "   product_id  onsale_web  price  stock_quantity stock_status id_web    sku  \\\n",
       "0        3847           1   24.2               0   outofstock  15298  15298   \n",
       "1        3847           1   24.2               0   outofstock  15298  15298   \n",
       "\n",
       "   virtual  downloadable  rating_count  ...  \\\n",
       "0        0             0             0  ...   \n",
       "1        0             0             0  ...   \n",
       "\n",
       "                                     post_name       post_modified  \\\n",
       "0  pierre-jean-villa-saint-joseph-preface-2018 2019-12-30 09:30:29   \n",
       "1  pierre-jean-villa-saint-joseph-preface-2018 2019-12-30 09:30:29   \n",
       "\n",
       "    post_modified_gmt  post_content_filtered  post_parent  \\\n",
       "0 2019-12-30 08:30:29                    NaN          0.0   \n",
       "1 2019-12-30 08:30:29                    NaN          0.0   \n",
       "\n",
       "                                                guid menu_order   post_type  \\\n",
       "0  https://www.wine-spirit.fr/?post_type=product&...        0.0     product   \n",
       "1  https://www.wine-spirit.fr/wp-content/uploads/...        0.0  attachment   \n",
       "\n",
       "  post_mime_type comment_count  \n",
       "0            NaN           0.0  \n",
       "1     image/jpeg           0.0  \n",
       "\n",
       "[2 rows x 34 columns]"
      ]
     },
     "execution_count": 2,
     "metadata": {},
     "output_type": "execute_result"
    }
   ],
   "source": [
    "merged = pd.merge(df_erp, df_liaison, on=[\"product_id\", \"product_id\"])\n",
    "full = merged.merge(df_web, left_on='id_web', right_on='sku')\n",
    "full.head(2)\n"
   ]
  },
  {
   "cell_type": "markdown",
   "id": "9e1f07ce",
   "metadata": {},
   "source": [
    "**Le client souhaite avoir le chiffre d’affaire par produit et le total\n",
    "de chiffre d’affaire réalisé**"
   ]
  },
  {
   "cell_type": "code",
   "execution_count": 3,
   "id": "385cf962",
   "metadata": {},
   "outputs": [
    {
     "data": {
      "text/html": [
       "<div>\n",
       "<style scoped>\n",
       "    .dataframe tbody tr th:only-of-type {\n",
       "        vertical-align: middle;\n",
       "    }\n",
       "\n",
       "    .dataframe tbody tr th {\n",
       "        vertical-align: top;\n",
       "    }\n",
       "\n",
       "    .dataframe thead th {\n",
       "        text-align: right;\n",
       "    }\n",
       "</style>\n",
       "<table border=\"1\" class=\"dataframe\">\n",
       "  <thead>\n",
       "    <tr style=\"text-align: right;\">\n",
       "      <th></th>\n",
       "      <th>price</th>\n",
       "      <th>CA</th>\n",
       "    </tr>\n",
       "  </thead>\n",
       "  <tbody>\n",
       "    <tr>\n",
       "      <th>0</th>\n",
       "      <td>24.2</td>\n",
       "      <td>145.2</td>\n",
       "    </tr>\n",
       "    <tr>\n",
       "      <th>2</th>\n",
       "      <td>34.3</td>\n",
       "      <td>0.0</td>\n",
       "    </tr>\n",
       "    <tr>\n",
       "      <th>4</th>\n",
       "      <td>20.8</td>\n",
       "      <td>0.0</td>\n",
       "    </tr>\n",
       "    <tr>\n",
       "      <th>6</th>\n",
       "      <td>14.1</td>\n",
       "      <td>42.3</td>\n",
       "    </tr>\n",
       "    <tr>\n",
       "      <th>8</th>\n",
       "      <td>46.0</td>\n",
       "      <td>0.0</td>\n",
       "    </tr>\n",
       "    <tr>\n",
       "      <th>...</th>\n",
       "      <td>...</td>\n",
       "      <td>...</td>\n",
       "    </tr>\n",
       "    <tr>\n",
       "      <th>9153</th>\n",
       "      <td>8.4</td>\n",
       "      <td>42.0</td>\n",
       "    </tr>\n",
       "    <tr>\n",
       "      <th>9155</th>\n",
       "      <td>27.5</td>\n",
       "      <td>0.0</td>\n",
       "    </tr>\n",
       "    <tr>\n",
       "      <th>9157</th>\n",
       "      <td>69.0</td>\n",
       "      <td>0.0</td>\n",
       "    </tr>\n",
       "    <tr>\n",
       "      <th>9159</th>\n",
       "      <td>54.8</td>\n",
       "      <td>0.0</td>\n",
       "    </tr>\n",
       "    <tr>\n",
       "      <th>9161</th>\n",
       "      <td>16.3</td>\n",
       "      <td>0.0</td>\n",
       "    </tr>\n",
       "  </tbody>\n",
       "</table>\n",
       "<p>714 rows × 2 columns</p>\n",
       "</div>"
      ],
      "text/plain": [
       "      price     CA\n",
       "0      24.2  145.2\n",
       "2      34.3    0.0\n",
       "4      20.8    0.0\n",
       "6      14.1   42.3\n",
       "8      46.0    0.0\n",
       "...     ...    ...\n",
       "9153    8.4   42.0\n",
       "9155   27.5    0.0\n",
       "9157   69.0    0.0\n",
       "9159   54.8    0.0\n",
       "9161   16.3    0.0\n",
       "\n",
       "[714 rows x 2 columns]"
      ]
     },
     "execution_count": 3,
     "metadata": {},
     "output_type": "execute_result"
    }
   ],
   "source": [
    "#nettoyage du dataframe, on garde les ventes concernants les produits seulements\n",
    "full = full[full[\"post_type\"] == \"product\"]\n",
    "full = full.drop_duplicates()\n",
    "#suppression des lignes où l'id_web n'est pas connu\n",
    "full.drop(full[full['id_web'].isnull()].index, inplace=True)\n",
    "\n",
    "\n",
    "#calcul du chiffre d'affaire et ajout d'une colonne 'CA'\n",
    "full['CA'] = full.apply(lambda row: ( row['price'] * row['total_sales'] ),axis=1 )\n",
    "full[['price','CA']]\n"
   ]
  },
  {
   "cell_type": "code",
   "execution_count": 4,
   "id": "951b3a92",
   "metadata": {},
   "outputs": [
    {
     "name": "stdout",
     "output_type": "stream",
     "text": [
      "Le chiffre d'affaire est de 70568.6\n"
     ]
    }
   ],
   "source": [
    "full['CA'].sum()\n",
    "print(\"Le chiffre d'affaire est de {}\".format(full['CA'].sum()))"
   ]
  },
  {
   "cell_type": "markdown",
   "id": "8ff196b6",
   "metadata": {},
   "source": [
    "**Calculs du zcore et des interquantiles**"
   ]
  },
  {
   "cell_type": "code",
   "execution_count": 5,
   "id": "f514bcbe",
   "metadata": {},
   "outputs": [
    {
     "name": "stdout",
     "output_type": "stream",
     "text": [
      "Ci dessous, la liste des produits vendus à prix fort : \n",
      "\n",
      "Zind-Humbrecht Riesling Grand Cru Rangen De Thann Clos Saint-Urbain 2017 - Prix : 100.0 \n",
      "Zind-Humbrecht Pinot Gris Grand Cru Rangen De Thann Clos Saint-Urbain 2012 - Prix : 88.4 \n",
      "Champagne Egly-Ouriet Grand Cru Millésimé 2008 - Prix : 225.0 \n",
      "Champagne Egly-Ouriet Grand Cru Blanc de Noirs - Prix : 126.5 \n",
      "Cognac Frapin VIP XO - Prix : 176.0 \n",
      "Cognac Frapin Château de Fontpinot XO - Prix : 108.5 \n",
      "Cognac Frapin Château de Fontpinot 1989 20 Ans d'Age - Prix : 157.0 \n",
      "Cognac Frapin Cigar Blend - Prix : 104.0 \n",
      "Château de Meursault Puligny-Montrachet 1er Cru Champ Canet 2014 - Prix : 109.6 \n",
      "Domaine Des Croix Corton Grand Cru Les Grèves 2017 - Prix : 102.3 \n",
      "Domaine Des Croix Corton Charlemagne Grand Cru 2016 - Prix : 137.0 \n",
      "David Duband Charmes-Chambertin Grand Cru 2014 - Prix : 217.5 \n",
      "Domaine des Comtes Lafon Volnay 1er Cru Santenots du Milieu 2014 - Prix : 105.0 \n",
      "Domaine des Comtes Lafon Volnay 1er Cru Santenots du Milieu 2013 - Prix : 105.0 \n",
      "Champagne Agrapart &amp; Fils L'Avizoise Extra Brut Blanc de Blancs Grand Cru 2012 - Prix : 112.0 \n",
      "Tempier Bandol Cabassaou 2017 - Prix : 92.0 \n",
      "Domaine Weinbach Gewurztraminer Grand Cru Furstentum SGN 2010 1/2 - Prix : 124.8 \n",
      "Camille Giroud Clos de Vougeot 2016 - Prix : 175.0 \n",
      "Coteaux Champenois Egly-Ouriet Ambonnay Rouge 2016 - Prix : 191.3 \n",
      "Wemyss Malts Single Cask Scotch Whisky Chocolate Moka Cake 2005 Strathclyde - Prix : 93.0 \n",
      "Wemyss Malts Single Cask Scotch Whisky Choc 'n' Nut Pretzel 2001 Bunnahabhain - Prix : 122.0 \n",
      "Wemyss Malts Single Cask Scotch Whisky Chai Caramel Latte 2002 Craigellachie - Prix : 114.0 \n",
      "Champagne Gosset Célébris Vintage 2007 - Prix : 135.0 \n",
      "David Duband Chambolle-Musigny 1er Cru Les Sentiers 2016 - Prix : 105.6 \n",
      "Domaine Clerget Echezeaux Grand Cru En Orveaux 2015 - Prix : 116.4 \n",
      "Domaine des Comtes Lafon Volnay 1er Cru Santenots du Milieu 2015 - Prix : 115.0 \n",
      "Domaine des Comtes Lafon Volnay 1er Cru Santenots du Milieu 2016 - Prix : 121.0 \n",
      "Domaine des Comtes Lafon Volnay 1er Cru Champans 2013 - Prix : 99.0 \n",
      "Domaine des Comtes Lafon Volnay 1er Cru Champans 2014 - Prix : 115.0 \n",
      "Domaine des Comtes Lafon Volnay 1er Cru Champans 2016 - Prix : 121.0 \n"
     ]
    }
   ],
   "source": [
    "full['zscore'] = stats.zscore(full['price'])\n",
    "outliers = full[full['zscore'] > 2 ]\n",
    "\n",
    "print(\"Ci dessous, la liste des produits vendus à prix fort : \\n\")\n",
    "for row in outliers[['post_title','price']].index :\n",
    "    print(\"{} - Prix : {} \".format(outliers['post_title'][row], outliers['price'][row]))\n",
    "    \n",
    "\n",
    "\n"
   ]
  },
  {
   "cell_type": "code",
   "execution_count": 6,
   "id": "f8f7f61e",
   "metadata": {},
   "outputs": [
    {
     "name": "stdout",
     "output_type": "stream",
     "text": [
      "28.050000000000004\n"
     ]
    }
   ],
   "source": [
    "# First quartile (Q1)\n",
    "Q1 = np.percentile(full['price'], 25, interpolation = 'midpoint')\n",
    "  \n",
    "# Third quartile (Q3)\n",
    "Q3 = np.percentile(full['price'], 75, interpolation = 'midpoint')\n",
    "  \n",
    "# Interquartile range (IQR)\n",
    "IQR = Q3 - Q1\n",
    "\n",
    "print(IQR)"
   ]
  },
  {
   "cell_type": "markdown",
   "id": "87e18848",
   "metadata": {},
   "source": [
    "**Représentations graphiques des ventes**"
   ]
  },
  {
   "cell_type": "code",
   "execution_count": 7,
   "id": "9af3fb1d",
   "metadata": {},
   "outputs": [],
   "source": [
    "#Calcul des outliers\n",
    "\n",
    "outliers_min = Q1 - 1.5 * IQR    #-27.975\n",
    "outliers_max = Q3 + 1.5 * IQR    #84.22"
   ]
  },
  {
   "cell_type": "code",
   "execution_count": 8,
   "id": "77331cdc",
   "metadata": {},
   "outputs": [
    {
     "data": {
      "image/png": "[encoded data removed]",
      "text/plain": [
       "<Figure size 432x288 with 1 Axes>"
      ]
     },
     "metadata": {
      "needs_background": "light"
     },
     "output_type": "display_data"
    }
   ],
   "source": [
    "#création de nouveaux_index qui servent d'abcisse à la visualisation\n",
    "indexs=[]\n",
    "for i in range(len(full)):\n",
    "    indexs.append(i)\n",
    "full[\"new_index\"]= indexs\n",
    "\n",
    "#création d'une liste de couleurs . Outliers en rouge. \n",
    "colors =[] \n",
    "for row in full.index:\n",
    "    if full['price'][row]>outliers_max:\n",
    "        colors.append('red')  \n",
    "    else:\n",
    "        colors.append('magenta')\n",
    "\n",
    "#Initiation et affichage d'un nuage de points\n",
    "plt.scatter(full['new_index'] ,full['price'], c=colors)\n",
    "plt.xlabel(\"index\")\n",
    "plt.ylabel(\"price\")\n",
    "plt.show()\n",
    "\n"
   ]
  },
  {
   "cell_type": "code",
   "execution_count": 9,
   "id": "abf5324b",
   "metadata": {},
   "outputs": [
    {
     "data": {
      "image/png": "[encoded data removed]",
      "text/plain": [
       "<Figure size 432x288 with 1 Axes>"
      ]
     },
     "metadata": {
      "needs_background": "light"
     },
     "output_type": "display_data"
    },
    {
     "data": {
      "text/plain": [
       "<Figure size 792x504 with 0 Axes>"
      ]
     },
     "metadata": {},
     "output_type": "display_data"
    }
   ],
   "source": [
    "D = full['price']\n",
    "\n",
    "# plot\n",
    "fig, ax = plt.subplots()\n",
    "VP = ax.boxplot(D, widths=0.7, patch_artist=True)\n",
    "fig = plt.figure(figsize =(11, 7))\n",
    "\n",
    "\n",
    "\n",
    "plt.show()"
   ]
  }
 ],
 "metadata": {
  "kernelspec": {
   "display_name": "Python 3 (ipykernel)",
   "language": "python",
   "name": "python3"
  },
  "language_info": {
   "codemirror_mode": {
    "name": "ipython",
    "version": 3
   },
   "file_extension": ".py",
   "mimetype": "text/x-python",
   "name": "python",
   "nbconvert_exporter": "python",
   "pygments_lexer": "ipython3",
   "version": "3.9.12"
  }
 },
 "nbformat": 4,
 "nbformat_minor": 5
}
