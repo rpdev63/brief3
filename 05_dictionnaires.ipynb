{
 "cells": [
  {
   "cell_type": "markdown",
   "id": "ac77e894",
   "metadata": {},
   "source": [
    "## Objectif : Manipuler un dictionnaire contenant le nombre de ventes mensuelles de 15 commerciaux"
   ]
  },
  {
   "cell_type": "markdown",
   "id": "5efe530f",
   "metadata": {},
   "source": [
    "**1 - Créer un dictionnaire nommé ventes_commerciaux**"
   ]
  },
  {
   "cell_type": "code",
   "execution_count": 1,
   "id": "1d9a9a75",
   "metadata": {},
   "outputs": [],
   "source": [
    "import numpy as np\n",
    "\n",
    "ventes_commerciaux = {\n",
    "    \"Marie\" : 15,\n",
    "    \"Samuel\" : 17,\n",
    "    \"Gaston\" : 12,\n",
    "    \"Fred\" : 10,\n",
    "    \"Mae\" : 5,\n",
    "    \"Julie\" : 15,\n",
    "    \"Zoe\":7,\n",
    "    \"Claire\":20,\n",
    "    \"Chloe\":8,\n",
    "    \"Julien\":14,\n",
    "    \"Gael\":9,\n",
    "    \"Samia\":15,\n",
    "    \"Omar\":11,\n",
    "    \"Gabriel\":16,\n",
    "    \"Manon\":2\n",
    "}\n",
    "\n",
    "\n"
   ]
  },
  {
   "cell_type": "markdown",
   "id": "085f8426",
   "metadata": {},
   "source": [
    "**2 – Quelle est la moyenne des ventes ?**"
   ]
  },
  {
   "cell_type": "code",
   "execution_count": 2,
   "id": "2f60b954",
   "metadata": {},
   "outputs": [
    {
     "name": "stdout",
     "output_type": "stream",
     "text": [
      "La valeur moyenne de toutes les ventes est 11.733333333333333\n"
     ]
    }
   ],
   "source": [
    "mean = np.average(list(ventes_commerciaux.values()))\n",
    "\n",
    "print(\"La valeur moyenne de toutes les ventes est {}\".format(mean))"
   ]
  },
  {
   "cell_type": "markdown",
   "id": "4b4f2127",
   "metadata": {},
   "source": [
    "**3 – Afficher le nombre total de vendeurs**\n"
   ]
  },
  {
   "cell_type": "code",
   "execution_count": 3,
   "id": "582f7518",
   "metadata": {},
   "outputs": [
    {
     "name": "stdout",
     "output_type": "stream",
     "text": [
      "Il y a 15 commerciaux\n"
     ]
    }
   ],
   "source": [
    "nb_commerciaux = len(ventes_commerciaux.keys())\n",
    "print(\"Il y a {} commerciaux\".format(nb_commerciaux))"
   ]
  },
  {
   "cell_type": "markdown",
   "id": "2760c4e7",
   "metadata": {},
   "source": [
    "**4 – Combien de commerciaux ont un nombre de ventes strictement supérieur à la  moyenne ?**\n",
    "**5 – Quel est le prénom du meilleur vendeur ?**"
   ]
  },
  {
   "cell_type": "code",
   "execution_count": 4,
   "id": "54709a53",
   "metadata": {},
   "outputs": [
    {
     "name": "stdout",
     "output_type": "stream",
     "text": [
      "Il y a 8 commercieaux qui ont un nombre de ventes strictement supérieur à la moyenne\n",
      "Le vendeur le plus actif est Claire avec 20 ventes\n"
     ]
    }
   ],
   "source": [
    "bons_commerciaux=0\n",
    "ventes_max =0\n",
    "meilleur_vendeur =''\n",
    "for key, val in ventes_commerciaux.items():\n",
    "    if val > ventes_max :\n",
    "        ventes_max = val\n",
    "        meilleur_vendeur = key\n",
    "    if val>mean :\n",
    "        bons_commerciaux +=1\n",
    "        \n",
    "print(\"Il y a {} commercieaux qui ont un nombre de ventes strictement supérieur à la moyenne\".format(bons_commerciaux))\n",
    "print(\"Le vendeur le plus actif est {} avec {} ventes\".format(meilleur_vendeur, ventes_max))"
   ]
  },
  {
   "cell_type": "markdown",
   "id": "322ae877",
   "metadata": {},
   "source": [
    "**6 – Combien de vendeurs ont un prénom avec strictement moins de 4 lettres?** **7 – Afficher le prénom des vendeurs qui ont un nombre de ventes pair ( multiple de 2 )**\n"
   ]
  },
  {
   "cell_type": "code",
   "execution_count": 5,
   "id": "0bce8557",
   "metadata": {},
   "outputs": [
    {
     "name": "stdout",
     "output_type": "stream",
     "text": [
      "Les commerciaux avec des prénoms courts sont :\n",
      "Mae\n",
      "Zoe\n",
      "\n",
      "Les commerciaux avec des prénoms de nombre pairs sont :\n",
      "Samuel\n",
      "Gaston\n",
      "Fred\n",
      "Claire\n",
      "Julien\n",
      "Gael\n",
      "Omar\n"
     ]
    }
   ],
   "source": [
    "short_names = []\n",
    "even = []\n",
    "for commercial in ventes_commerciaux.keys() :\n",
    "    total_letters = 0\n",
    "    for l in commercial :\n",
    "        total_letters += 1\n",
    "    if total_letters < 4 :\n",
    "        short_names.append(commercial)\n",
    "    if (total_letters % 2 == 0 ):\n",
    "        even.append(commercial)\n",
    "\n",
    "print('Les commerciaux avec des prénoms courts sont :' )\n",
    "for commercial in short_names :\n",
    "    print(commercial)\n",
    "print('\\nLes commerciaux avec des prénoms de nombre pairs sont :' )\n",
    "for commercial in even :\n",
    "    print(commercial)"
   ]
  }
 ],
 "metadata": {
  "kernelspec": {
   "display_name": "Python 3 (ipykernel)",
   "language": "python",
   "name": "python3"
  },
  "language_info": {
   "codemirror_mode": {
    "name": "ipython",
    "version": 3
   },
   "file_extension": ".py",
   "mimetype": "text/x-python",
   "name": "python",
   "nbconvert_exporter": "python",
   "pygments_lexer": "ipython3",
   "version": "3.9.12"
  }
 },
 "nbformat": 4,
 "nbformat_minor": 5
}
