{
 "cells": [
  {
   "cell_type": "markdown",
   "id": "2684ea0f",
   "metadata": {},
   "source": [
    "## Objectif : Etudier le marché Android via le Google Play Store"
   ]
  },
  {
   "cell_type": "markdown",
   "id": "1b82d94a",
   "metadata": {},
   "source": [
    "**1 – Lire le fichier googleplaystore_1.csv et stocker les valeurs dans un dataframe\n",
    "avec pour nom df_google_ap_1**"
   ]
  },
  {
   "cell_type": "code",
   "execution_count": 1,
   "id": "78d2de2b",
   "metadata": {},
   "outputs": [],
   "source": [
    "import pandas as pd\n",
    "\n",
    "df = pd.read_csv(r\"ressources\\googleplaystore_1.csv\", on_bad_lines='skip', delimiter=';')"
   ]
  },
  {
   "cell_type": "markdown",
   "id": "689b0748",
   "metadata": {},
   "source": [
    "**2 – Quels sont les noms, les catégories, et les genres des applications les plus installées\n",
    "Sur Google Play ? ( plus d’ 1milliards de fois )**"
   ]
  },
  {
   "cell_type": "code",
   "execution_count": 2,
   "id": "67ba6320",
   "metadata": {},
   "outputs": [
    {
     "name": "stdout",
     "output_type": "stream",
     "text": [
      "Les applications les plus installées sont les suivantes : \n",
      "\n",
      "\n",
      "Google Play Books - Genre : Books & Reference - Catégorie : BOOKS_AND_REFERENCE\n",
      "\n",
      "Messenger – Text and Video Chat for Free - Genre : Communication - Catégorie : COMMUNICATION\n",
      "\n",
      "WhatsApp Messenger - Genre : Communication - Catégorie : COMMUNICATION\n",
      "\n",
      "Google Chrome: Fast & Secure - Genre : Communication - Catégorie : COMMUNICATION\n",
      "\n",
      "Gmail - Genre : Communication - Catégorie : COMMUNICATION\n",
      "\n",
      "Hangouts - Genre : Communication - Catégorie : COMMUNICATION\n",
      "\n",
      "WhatsApp Messenger - Genre : Communication - Catégorie : COMMUNICATION\n",
      "\n",
      "Messenger – Text and Video Chat for Free - Genre : Communication - Catégorie : COMMUNICATION\n",
      "\n",
      "Hangouts - Genre : Communication - Catégorie : COMMUNICATION\n",
      "\n",
      "Skype - free IM & video calls - Genre : Communication - Catégorie : COMMUNICATION\n",
      "\n",
      "Google Chrome: Fast & Secure - Genre : Communication - Catégorie : COMMUNICATION\n",
      "\n",
      "Gmail - Genre : Communication - Catégorie : COMMUNICATION\n",
      "\n",
      "Hangouts - Genre : Communication - Catégorie : COMMUNICATION\n",
      "\n",
      "Skype - free IM & video calls - Genre : Communication - Catégorie : COMMUNICATION\n"
     ]
    }
   ],
   "source": [
    "df_most_installed = df[df['Installs'] == '1,000,000,000+']\n",
    "df_most_installed\n",
    "print(\"Les applications les plus installées sont les suivantes : \\n\")\n",
    "for row in df_most_installed.index:\n",
    "    print('\\n' + df[\"App\"][row] + ' - Genre : ' + df[\"Genres\"][row] + ' - Catégorie : ' + df[\"Category\"][row])"
   ]
  },
  {
   "cell_type": "markdown",
   "id": "c07aa831",
   "metadata": {},
   "source": [
    "**3 – Quel est le plus grand nombre de Reviews? Quel est le nom et la note de\n",
    "l’application concernée?**"
   ]
  },
  {
   "cell_type": "code",
   "execution_count": 3,
   "id": "34c7372e",
   "metadata": {},
   "outputs": [
    {
     "name": "stdout",
     "output_type": "stream",
     "text": [
      "L'application avec le plus de reviews est : WhatsApp Messenger avec 69119316.0 avis et une note de 4.4\n"
     ]
    }
   ],
   "source": [
    "df_reviews = df.sort_values(by=\"Reviews\", ascending = False)\n",
    "best_app = df_reviews.iloc[0]\n",
    "best_app['Reviews']\n",
    "print('L\\'application avec le plus de reviews est : {} avec {} avis et une note de {}'.format(best_app['App'],best_app['Reviews'],best_app[\"Rating\"]) )"
   ]
  },
  {
   "cell_type": "markdown",
   "id": "4fffcc8e",
   "metadata": {},
   "source": [
    "**4 – Afficher les colonnes 2,5,6 et les lignes 3 à 16 du Dataframe** \n"
   ]
  },
  {
   "cell_type": "code",
   "execution_count": 4,
   "id": "ede9461e",
   "metadata": {},
   "outputs": [
    {
     "data": {
      "text/html": [
       "<div>\n",
       "<style scoped>\n",
       "    .dataframe tbody tr th:only-of-type {\n",
       "        vertical-align: middle;\n",
       "    }\n",
       "\n",
       "    .dataframe tbody tr th {\n",
       "        vertical-align: top;\n",
       "    }\n",
       "\n",
       "    .dataframe thead th {\n",
       "        text-align: right;\n",
       "    }\n",
       "</style>\n",
       "<table border=\"1\" class=\"dataframe\">\n",
       "  <thead>\n",
       "    <tr style=\"text-align: right;\">\n",
       "      <th></th>\n",
       "      <th>App</th>\n",
       "      <th>Rating</th>\n",
       "    </tr>\n",
       "  </thead>\n",
       "  <tbody>\n",
       "    <tr>\n",
       "      <th>2</th>\n",
       "      <td>Sketch - Draw &amp; Paint</td>\n",
       "      <td>4.5</td>\n",
       "    </tr>\n",
       "    <tr>\n",
       "      <th>5</th>\n",
       "      <td>Smoke Effect Photo Maker - Smoke Editor</td>\n",
       "      <td>3.8</td>\n",
       "    </tr>\n",
       "    <tr>\n",
       "      <th>6</th>\n",
       "      <td>Infinite Painter</td>\n",
       "      <td>4.1</td>\n",
       "    </tr>\n",
       "  </tbody>\n",
       "</table>\n",
       "</div>"
      ],
      "text/plain": [
       "                                       App Rating\n",
       "2                    Sketch - Draw & Paint    4.5\n",
       "5  Smoke Effect Photo Maker - Smoke Editor    3.8\n",
       "6                         Infinite Painter    4.1"
      ]
     },
     "execution_count": 4,
     "metadata": {},
     "output_type": "execute_result"
    }
   ],
   "source": [
    "df.iloc[ [2,5,6] , [0, 2]]\n",
    "\n"
   ]
  },
  {
   "cell_type": "code",
   "execution_count": 5,
   "id": "f904f533",
   "metadata": {},
   "outputs": [
    {
     "data": {
      "text/html": [
       "<div>\n",
       "<style scoped>\n",
       "    .dataframe tbody tr th:only-of-type {\n",
       "        vertical-align: middle;\n",
       "    }\n",
       "\n",
       "    .dataframe tbody tr th {\n",
       "        vertical-align: top;\n",
       "    }\n",
       "\n",
       "    .dataframe thead th {\n",
       "        text-align: right;\n",
       "    }\n",
       "</style>\n",
       "<table border=\"1\" class=\"dataframe\">\n",
       "  <thead>\n",
       "    <tr style=\"text-align: right;\">\n",
       "      <th></th>\n",
       "      <th>App</th>\n",
       "      <th>Category</th>\n",
       "      <th>Rating</th>\n",
       "      <th>Reviews</th>\n",
       "      <th>Size</th>\n",
       "      <th>Installs</th>\n",
       "      <th>Type</th>\n",
       "      <th>Price</th>\n",
       "      <th>Content Rating</th>\n",
       "      <th>Genres</th>\n",
       "      <th>Last Updated</th>\n",
       "      <th>Current Ver</th>\n",
       "      <th>Android Ver</th>\n",
       "    </tr>\n",
       "  </thead>\n",
       "  <tbody>\n",
       "    <tr>\n",
       "      <th>3</th>\n",
       "      <td>Pixel Draw - Number Art Coloring Book</td>\n",
       "      <td>ART_AND_DESIGN</td>\n",
       "      <td>4.3</td>\n",
       "      <td>967.0</td>\n",
       "      <td>2.8M</td>\n",
       "      <td>100,000+</td>\n",
       "      <td>Free</td>\n",
       "      <td>0</td>\n",
       "      <td>Everyone</td>\n",
       "      <td>Art &amp; Design</td>\n",
       "      <td>NaN</td>\n",
       "      <td>NaN</td>\n",
       "      <td>NaN</td>\n",
       "    </tr>\n",
       "    <tr>\n",
       "      <th>4</th>\n",
       "      <td>Paper flowers instructions</td>\n",
       "      <td>ART_AND_DESIGN</td>\n",
       "      <td>4.4</td>\n",
       "      <td>167.0</td>\n",
       "      <td>5.6M</td>\n",
       "      <td>50,000+</td>\n",
       "      <td>Free</td>\n",
       "      <td>0</td>\n",
       "      <td>Everyone</td>\n",
       "      <td>Art &amp; Design</td>\n",
       "      <td>March 26, 2017</td>\n",
       "      <td>1.0</td>\n",
       "      <td>2.3 and up</td>\n",
       "    </tr>\n",
       "    <tr>\n",
       "      <th>5</th>\n",
       "      <td>Smoke Effect Photo Maker - Smoke Editor</td>\n",
       "      <td>ART_AND_DESIGN</td>\n",
       "      <td>3.8</td>\n",
       "      <td>178.0</td>\n",
       "      <td>19M</td>\n",
       "      <td>50,000+</td>\n",
       "      <td>Free</td>\n",
       "      <td>0</td>\n",
       "      <td>Everyone</td>\n",
       "      <td>Art &amp; Design</td>\n",
       "      <td>April 26, 2018</td>\n",
       "      <td>1.1</td>\n",
       "      <td>4.0.3 and up</td>\n",
       "    </tr>\n",
       "    <tr>\n",
       "      <th>6</th>\n",
       "      <td>Infinite Painter</td>\n",
       "      <td>ART_AND_DESIGN</td>\n",
       "      <td>4.1</td>\n",
       "      <td>36815.0</td>\n",
       "      <td>29M</td>\n",
       "      <td>1,000,000+</td>\n",
       "      <td>Free</td>\n",
       "      <td>0</td>\n",
       "      <td>Everyone</td>\n",
       "      <td>Art &amp; Design</td>\n",
       "      <td>June 14, 2018</td>\n",
       "      <td>6.1.61.1</td>\n",
       "      <td>4.2 and up</td>\n",
       "    </tr>\n",
       "    <tr>\n",
       "      <th>7</th>\n",
       "      <td>Garden Coloring Book</td>\n",
       "      <td>ART_AND_DESIGN</td>\n",
       "      <td>4.4</td>\n",
       "      <td>13791.0</td>\n",
       "      <td>33M</td>\n",
       "      <td>1,000,000+</td>\n",
       "      <td>Free</td>\n",
       "      <td>0</td>\n",
       "      <td>Everyone</td>\n",
       "      <td>Art &amp; Design</td>\n",
       "      <td>September 20, 2017</td>\n",
       "      <td>2.9.2</td>\n",
       "      <td>3.0 and up</td>\n",
       "    </tr>\n",
       "    <tr>\n",
       "      <th>8</th>\n",
       "      <td>Kids Paint Free - Drawing Fun</td>\n",
       "      <td>ART_AND_DESIGN</td>\n",
       "      <td>4.7</td>\n",
       "      <td>121.0</td>\n",
       "      <td>3.1M</td>\n",
       "      <td>10,000+</td>\n",
       "      <td>Free</td>\n",
       "      <td>0</td>\n",
       "      <td>Everyone</td>\n",
       "      <td>Art &amp; Design</td>\n",
       "      <td>NaN</td>\n",
       "      <td>NaN</td>\n",
       "      <td>NaN</td>\n",
       "    </tr>\n",
       "    <tr>\n",
       "      <th>9</th>\n",
       "      <td>Text on Photo - Fonteee</td>\n",
       "      <td>ART_AND_DESIGN</td>\n",
       "      <td>4.4</td>\n",
       "      <td>13880.0</td>\n",
       "      <td>28M</td>\n",
       "      <td>1,000,000+</td>\n",
       "      <td>Free</td>\n",
       "      <td>0</td>\n",
       "      <td>Everyone</td>\n",
       "      <td>Art &amp; Design</td>\n",
       "      <td>October 27, 2017</td>\n",
       "      <td>1.0.4</td>\n",
       "      <td>4.1 and up</td>\n",
       "    </tr>\n",
       "    <tr>\n",
       "      <th>10</th>\n",
       "      <td>Name Art Photo Editor - Focus n Filters</td>\n",
       "      <td>ART_AND_DESIGN</td>\n",
       "      <td>4.4</td>\n",
       "      <td>8788.0</td>\n",
       "      <td>12M</td>\n",
       "      <td>1,000,000+</td>\n",
       "      <td>Free</td>\n",
       "      <td>0</td>\n",
       "      <td>Everyone</td>\n",
       "      <td>Art &amp; Design</td>\n",
       "      <td>July 31, 2018</td>\n",
       "      <td>1.0.15</td>\n",
       "      <td>4.0 and up</td>\n",
       "    </tr>\n",
       "    <tr>\n",
       "      <th>11</th>\n",
       "      <td>Tattoo Name On My Photo Editor</td>\n",
       "      <td>ART_AND_DESIGN</td>\n",
       "      <td>4.2</td>\n",
       "      <td>44829.0</td>\n",
       "      <td>20M</td>\n",
       "      <td>10,000,000+</td>\n",
       "      <td>Free</td>\n",
       "      <td>0</td>\n",
       "      <td>Teen</td>\n",
       "      <td>Art &amp; Design</td>\n",
       "      <td>April 2, 2018</td>\n",
       "      <td>3.8</td>\n",
       "      <td>4.1 and up</td>\n",
       "    </tr>\n",
       "    <tr>\n",
       "      <th>12</th>\n",
       "      <td>Mandala Coloring Book</td>\n",
       "      <td>ART_AND_DESIGN</td>\n",
       "      <td>4.6</td>\n",
       "      <td>4326.0</td>\n",
       "      <td>21M</td>\n",
       "      <td>100,000+</td>\n",
       "      <td>Free</td>\n",
       "      <td>0</td>\n",
       "      <td>Everyone</td>\n",
       "      <td>Art &amp; Design</td>\n",
       "      <td>June 26, 2018</td>\n",
       "      <td>1.0.4</td>\n",
       "      <td>4.4 and up</td>\n",
       "    </tr>\n",
       "    <tr>\n",
       "      <th>13</th>\n",
       "      <td>3D Color Pixel by Number - Sandbox Art Coloring</td>\n",
       "      <td>ART_AND_DESIGN</td>\n",
       "      <td>4.4</td>\n",
       "      <td>1518.0</td>\n",
       "      <td>37M</td>\n",
       "      <td>100,000+</td>\n",
       "      <td>Free</td>\n",
       "      <td>0</td>\n",
       "      <td>Everyone</td>\n",
       "      <td>Art &amp; Design</td>\n",
       "      <td>August 3, 2018</td>\n",
       "      <td>1.2.3</td>\n",
       "      <td>2.3 and up</td>\n",
       "    </tr>\n",
       "    <tr>\n",
       "      <th>14</th>\n",
       "      <td>Learn To Draw Kawaii Characters</td>\n",
       "      <td>ART_AND_DESIGN</td>\n",
       "      <td>3.2</td>\n",
       "      <td>55.0</td>\n",
       "      <td>2.7M</td>\n",
       "      <td>5,000+</td>\n",
       "      <td>Free</td>\n",
       "      <td>0</td>\n",
       "      <td>Everyone</td>\n",
       "      <td>Art &amp; Design</td>\n",
       "      <td>June 6, 2018</td>\n",
       "      <td>NaN</td>\n",
       "      <td>4.2 and up</td>\n",
       "    </tr>\n",
       "    <tr>\n",
       "      <th>15</th>\n",
       "      <td>Photo Designer - Write your name with shapes</td>\n",
       "      <td>ART_AND_DESIGN</td>\n",
       "      <td>4.7</td>\n",
       "      <td>3632.0</td>\n",
       "      <td>5.5M</td>\n",
       "      <td>500,000+</td>\n",
       "      <td>Free</td>\n",
       "      <td>0</td>\n",
       "      <td>Everyone</td>\n",
       "      <td>Art &amp; Design</td>\n",
       "      <td>July 31, 2018</td>\n",
       "      <td>3.1</td>\n",
       "      <td>4.1 and up</td>\n",
       "    </tr>\n",
       "  </tbody>\n",
       "</table>\n",
       "</div>"
      ],
      "text/plain": [
       "                                                App        Category Rating  \\\n",
       "3             Pixel Draw - Number Art Coloring Book  ART_AND_DESIGN    4.3   \n",
       "4                        Paper flowers instructions  ART_AND_DESIGN    4.4   \n",
       "5           Smoke Effect Photo Maker - Smoke Editor  ART_AND_DESIGN    3.8   \n",
       "6                                  Infinite Painter  ART_AND_DESIGN    4.1   \n",
       "7                              Garden Coloring Book  ART_AND_DESIGN    4.4   \n",
       "8                     Kids Paint Free - Drawing Fun  ART_AND_DESIGN    4.7   \n",
       "9                           Text on Photo - Fonteee  ART_AND_DESIGN    4.4   \n",
       "10          Name Art Photo Editor - Focus n Filters  ART_AND_DESIGN    4.4   \n",
       "11                   Tattoo Name On My Photo Editor  ART_AND_DESIGN    4.2   \n",
       "12                            Mandala Coloring Book  ART_AND_DESIGN    4.6   \n",
       "13  3D Color Pixel by Number - Sandbox Art Coloring  ART_AND_DESIGN    4.4   \n",
       "14                  Learn To Draw Kawaii Characters  ART_AND_DESIGN    3.2   \n",
       "15     Photo Designer - Write your name with shapes  ART_AND_DESIGN    4.7   \n",
       "\n",
       "    Reviews  Size     Installs  Type Price Content Rating        Genres  \\\n",
       "3     967.0  2.8M     100,000+  Free     0       Everyone  Art & Design   \n",
       "4     167.0  5.6M      50,000+  Free     0       Everyone  Art & Design   \n",
       "5     178.0   19M      50,000+  Free     0       Everyone  Art & Design   \n",
       "6   36815.0   29M   1,000,000+  Free     0       Everyone  Art & Design   \n",
       "7   13791.0   33M   1,000,000+  Free     0       Everyone  Art & Design   \n",
       "8     121.0  3.1M      10,000+  Free     0       Everyone  Art & Design   \n",
       "9   13880.0   28M   1,000,000+  Free     0       Everyone  Art & Design   \n",
       "10   8788.0   12M   1,000,000+  Free     0       Everyone  Art & Design   \n",
       "11  44829.0   20M  10,000,000+  Free     0           Teen  Art & Design   \n",
       "12   4326.0   21M     100,000+  Free     0       Everyone  Art & Design   \n",
       "13   1518.0   37M     100,000+  Free     0       Everyone  Art & Design   \n",
       "14     55.0  2.7M       5,000+  Free     0       Everyone  Art & Design   \n",
       "15   3632.0  5.5M     500,000+  Free     0       Everyone  Art & Design   \n",
       "\n",
       "          Last Updated Current Ver   Android Ver  \n",
       "3                  NaN         NaN           NaN  \n",
       "4       March 26, 2017         1.0    2.3 and up  \n",
       "5       April 26, 2018         1.1  4.0.3 and up  \n",
       "6        June 14, 2018    6.1.61.1    4.2 and up  \n",
       "7   September 20, 2017       2.9.2    3.0 and up  \n",
       "8                  NaN         NaN           NaN  \n",
       "9     October 27, 2017       1.0.4    4.1 and up  \n",
       "10       July 31, 2018      1.0.15    4.0 and up  \n",
       "11       April 2, 2018         3.8    4.1 and up  \n",
       "12       June 26, 2018       1.0.4    4.4 and up  \n",
       "13      August 3, 2018       1.2.3    2.3 and up  \n",
       "14        June 6, 2018         NaN    4.2 and up  \n",
       "15       July 31, 2018         3.1    4.1 and up  "
      ]
     },
     "execution_count": 5,
     "metadata": {},
     "output_type": "execute_result"
    }
   ],
   "source": [
    "df.iloc[3:16]"
   ]
  },
  {
   "cell_type": "markdown",
   "id": "409abc30",
   "metadata": {},
   "source": [
    "**5 – Combien y a t il d’applications ouvertes aux personnes de tous âges?** "
   ]
  },
  {
   "cell_type": "code",
   "execution_count": 6,
   "id": "42e0a747",
   "metadata": {},
   "outputs": [
    {
     "name": "stdout",
     "output_type": "stream",
     "text": [
      "Il y a 391 applications ouvertes aux personnes de tous âges\n"
     ]
    }
   ],
   "source": [
    "everybody = df[df['Content Rating'] == 'Everyone']\n",
    "print(\"Il y a {} applications ouvertes aux personnes de tous âges\".format(len(everybody.index)))"
   ]
  },
  {
   "cell_type": "markdown",
   "id": "8fb3002c",
   "metadata": {},
   "source": [
    "**6 – Dans quelle catégorie y a – t –il le plus d’applications ?**"
   ]
  },
  {
   "cell_type": "code",
   "execution_count": 7,
   "id": "37d08835",
   "metadata": {},
   "outputs": [
    {
     "name": "stdout",
     "output_type": "stream",
     "text": [
      "La catégorie la plus installée est COMMUNICATION\n"
     ]
    }
   ],
   "source": [
    "top_categories = df['Category'].value_counts()\n",
    "print(\"La catégorie la plus installée est {}\".format(top_categories.index[0]))"
   ]
  },
  {
   "cell_type": "markdown",
   "id": "5723cfb7",
   "metadata": {},
   "source": [
    "**7 – Quelle est l’application vendue la plus chère?**"
   ]
  },
  {
   "cell_type": "code",
   "execution_count": 8,
   "id": "4b4bc0a7",
   "metadata": {},
   "outputs": [
    {
     "name": "stdout",
     "output_type": "stream",
     "text": [
      "L'application la plus chère est AMBW Dating App: Asian Men Black Women Interracial.\n",
      "Son prix est de 7.99$\n"
     ]
    },
    {
     "name": "stderr",
     "output_type": "stream",
     "text": [
      "C:\\Users\\utilisateur\\AppData\\Local\\Temp\\ipykernel_10572\\1593702064.py:2: FutureWarning: The default value of regex will change from True to False in a future version. In addition, single character regular expressions will *not* be treated as literal strings when regex=True.\n",
      "  df['Price'] = df['Price'].str.replace('$', '')\n"
     ]
    }
   ],
   "source": [
    "df['Price'] = df['Price'].replace('Free',0)\n",
    "df['Price'] = df['Price'].str.replace('$', '')\n",
    "df['Price'].astype('float')\n",
    "\n",
    "top_app = df.sort_values(by=\"Price\", ascending = False).iloc[0]\n",
    "\n",
    "print(\"L'application la plus chère est {}.\\nSon prix est de {}$\".format(top_app['App'], top_app['Price']))"
   ]
  }
 ],
 "metadata": {
  "kernelspec": {
   "display_name": "Python 3 (ipykernel)",
   "language": "python",
   "name": "python3"
  },
  "language_info": {
   "codemirror_mode": {
    "name": "ipython",
    "version": 3
   },
   "file_extension": ".py",
   "mimetype": "text/x-python",
   "name": "python",
   "nbconvert_exporter": "python",
   "pygments_lexer": "ipython3",
   "version": "3.9.12"
  }
 },
 "nbformat": 4,
 "nbformat_minor": 5
}
