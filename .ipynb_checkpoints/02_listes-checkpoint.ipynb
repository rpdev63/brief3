{
 "cells": [
  {
   "cell_type": "markdown",
   "id": "fa12f459",
   "metadata": {},
   "source": [
    "## Objectif : Manipuler une liste contenant le prix de 58 maisons"
   ]
  },
  {
   "cell_type": "markdown",
   "id": "9d478163",
   "metadata": {},
   "source": [
    "**1-Créer une liste nommée « prix_de_58_maisons » contenant des prix de 58 maisons entre 125 000 et 700 000**"
   ]
  },
  {
   "cell_type": "code",
   "execution_count": 4,
   "id": "c7923dde",
   "metadata": {},
   "outputs": [
    {
     "name": "stdout",
     "output_type": "stream",
     "text": [
      "[642007, 257460, 336288, 365823, 583002, 546701, 283621, 685736, 630058, 666938, 259271, 391458, 129996, 558525, 287513, 391138, 354204, 482832, 626798, 157833, 273873, 604545, 698591, 669189, 639981, 244300, 287464, 336153, 197461, 453594, 524089, 548564, 262547, 429191, 690310, 247340, 246284, 275478, 311313, 620167, 130202, 587413, 180945, 544997, 166263, 539587, 300310, 557397, 329498, 154322, 285073, 497136, 220796, 230771, 648429, 387904, 150727, 312216]\n"
     ]
    }
   ],
   "source": [
    "from numpy import random\n",
    "\n",
    "prix_de_58_maisons = [random.randint(125000,700000) for i in range(58)]\n",
    "print(prix_de_58_maisons)"
   ]
  },
  {
   "cell_type": "markdown",
   "id": "33aa1986",
   "metadata": {},
   "source": [
    "**2 – Combien de maisons ont un prix supérieur ou égal à 300 0000 euros ?\n",
    "3 – Combien de maisons ont un prix compris entre 250 000 et 400 000 euros ?\n",
    "4 –Combien de maisons ont un prix qui n’est pas supérieur à 600 000 euros ?\n",
    "5 – Combien de maisons ont un prix inférieur à 150 000 euros ou supérieur à\n",
    "650 000 euros ?**\n"
   ]
  },
  {
   "cell_type": "code",
   "execution_count": 5,
   "id": "d5eb8849",
   "metadata": {},
   "outputs": [
    {
     "name": "stdout",
     "output_type": "stream",
     "text": [
      "Il y a 36 de maisons qui ont un prix supérieur ou égal à 300 0000 euro\n",
      "Il y a 20 de maisons qui ont un prix compris entre 250 000 et 400 000 euros\n",
      "Il y a 46 de maisons qui ont un prix qui n’est pas supérieur à 600 000 euros\n",
      "Il y a 7 de maisons qui ont un prix inférieur à 150 000 euros ou supérieur à 650 000 euros\n"
     ]
    }
   ],
   "source": [
    "sorted1, sorted2, sorted3, sorted4 = 0,0,0,0\n",
    "\n",
    "for value in prix_de_58_maisons :\n",
    "    if value >= 300000 :\n",
    "        sorted1 +=1\n",
    "    if (value > 250000) and (value < 400000) :\n",
    "        sorted2 +=1\n",
    "    if (value < 600000):\n",
    "        sorted3 +=1\n",
    "    if (value < 150000) or (value > 650000) :\n",
    "        sorted4 +=1\n",
    "\n",
    "        \n",
    "print(\"Il y a {} de maisons qui ont un prix supérieur ou égal à 300 0000 euro\".format(sorted1))\n",
    "print(\"Il y a {} de maisons qui ont un prix compris entre 250 000 et 400 000 euros\".format(sorted2))\n",
    "print(\"Il y a {} de maisons qui ont un prix qui n’est pas supérieur à 600 000 euros\".format(sorted3))\n",
    "print(\"Il y a {} de maisons qui ont un prix inférieur à 150 000 euros ou supérieur à 650 000 euros\".format(sorted4))"
   ]
  }
 ],
 "metadata": {
  "kernelspec": {
   "display_name": "Python 3 (ipykernel)",
   "language": "python",
   "name": "python3"
  },
  "language_info": {
   "codemirror_mode": {
    "name": "ipython",
    "version": 3
   },
   "file_extension": ".py",
   "mimetype": "text/x-python",
   "name": "python",
   "nbconvert_exporter": "python",
   "pygments_lexer": "ipython3",
   "version": "3.9.12"
  }
 },
 "nbformat": 4,
 "nbformat_minor": 5
}
